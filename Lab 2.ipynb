{
 "cells": [
  {
   "cell_type": "markdown",
   "metadata": {},
   "source": [
    "<table style=\"width:100%; border-collapse: collapse;\">\n",
    "  <tr>\n",
    "    <td style=\"width:20%; vertical-align:middle;\">\n",
    "      <img src=\"LogoUVG.png\" width=\"400\"/>\n",
    "    </td>\n",
    "    <td style=\"text-align:left; vertical-align:middle;\">\n",
    "      <h2 style=\"margin-bottom: 0;\">Universidad del Valle de Guatemala - UVG</h2>\n",
    "      <h3 style=\"margin-top: 0;\">Facultad de Ingeniería - Ciencia de la Computación</h3>\n",
    "      <p style=\"font-size: 16px; margin-bottom: 0; margin-top: -20px\">\n",
    "        <strong>Course:</strong> CC3106 - Responsible AI\n",
    "        <strong>Section:</strong> 10\n",
    "      </p>\n",
    "      <p style=\"font-size: 16px; margin: 0;\"><strong>Laboratorio 2:</strong> Interpretando Vectores\n",
    "</p>\n",
    "      <br>\n",
    "      <p style=\"font-size: 15px; margin: 0;\"><strong>Autor:</strong></p>\n",
    "      <ul style=\"margin-top: 5px; padding-left: 20px; font-size: 15px;\">\n",
    "        <li>Diego Alexander Hernández Silvestre - <strong>21270</strong></li>\n",
    "      </ul>\n",
    "    </td>\n",
    "  </tr>\n",
    "</table>\n"
   ]
  },
  {
   "cell_type": "markdown",
   "metadata": {
    "id": "Zgc87rWWCg9e"
   },
   "source": [
    "# ================================================\n",
    "# Laboratorio 2 — Similitud de Coseno\n",
    "# ================================================\n",
    "\n",
    "# Instrucciones\n",
    "1. **Carga de embeddings**  \n",
    "   - Utilizar las representaciones vectoriales preentrenadas (*GloVe 100d*).  \n",
    "   - Verificar que los términos requeridos estén contenidos en el vocabulario.  \n",
    "\n",
    "2. **Cálculo de vectores de expresión**  \n",
    "   - Construir expresiones vectoriales simples mediante operaciones aritméticas (suma, resta).  \n",
    "\n",
    "3. **Medición de similitud**  \n",
    "   - Calcular la similitud de coseno entre los vectores de la expresión y los vectores de referencia.  \n",
    "   - Reportar:  \n",
    "     - Valor de la similitud de coseno.  \n",
    "     - Normas de cada vector (\\(\\|\\mathbf{u}\\|\\)).  \n",
    "\n",
    "4. **Casos de estudio**  \n",
    "   Realizar caso por caso\n",
    "\n",
    "5. **Documentación de resultados**  \n",
    "   - Registrar en el notebook los valores obtenidos de similitud y normas vectoriales para cada caso.  \n",
    "   - Incluir comentarios breves interpretando los resultados.  \n",
    "\n",
    "6. **Conclusiones**  \n",
    "   - Redactar conclusiones **caso por caso** sobre la utilidad de la similitud de coseno."
   ]
  },
  {
   "cell_type": "code",
   "execution_count": 25,
   "metadata": {
    "id": "znm3REDwDFzf"
   },
   "outputs": [],
   "source": [
    "# Solo si es necesario\n",
    "# !pip install gensim"
   ]
  },
  {
   "cell_type": "code",
   "execution_count": 26,
   "metadata": {
    "id": "q8Wdrh6SDLE-"
   },
   "outputs": [],
   "source": [
    "import numpy as np\n",
    "from typing import List\n",
    "import gensim.downloader as api"
   ]
  },
  {
   "cell_type": "code",
   "execution_count": 27,
   "metadata": {
    "id": "NhOrYPOYDfm6"
   },
   "outputs": [],
   "source": [
    "# ========= 1) Cargar GloVe 100D =========\n",
    "model = api.load(\"glove-wiki-gigaword-100\")"
   ]
  },
  {
   "cell_type": "code",
   "execution_count": 28,
   "metadata": {
    "id": "MSLOx52ZDQfl"
   },
   "outputs": [],
   "source": [
    "# ========= 2) Funciones utilitarias =========\n",
    "def embedding(word: str) -> np.ndarray:\n",
    "    \"\"\"Vector de la palabra (lanza KeyError si no está en vocab).\"\"\"\n",
    "    return model[word]\n",
    "\n",
    "def build_vector(plus: List[str], minus: List[str]) -> np.ndarray:\n",
    "    \"\"\"Suma y resta embeddings explícitamente.\"\"\"\n",
    "    dim = model[next(iter(model.key_to_index))].shape[0]\n",
    "    v = np.zeros(dim, dtype=np.float32)\n",
    "    for w in plus:\n",
    "        if w in model:\n",
    "            v += model[w]\n",
    "        else:\n",
    "            print(f\"[OOV] '{w}' no está en el vocabulario.\")\n",
    "    for w in minus:\n",
    "        if w in model:\n",
    "            v -= model[w]\n",
    "        else:\n",
    "            print(f\"[OOV] '{w}' no está en el vocabulario.\")\n",
    "    return v\n",
    "\n",
    "def cos(a: np.ndarray, b: np.ndarray) -> float:\n",
    "    na, nb = np.linalg.norm(a), np.linalg.norm(b)\n",
    "    if na == 0 or nb == 0:\n",
    "        return float(\"nan\")\n",
    "    return float(np.dot(a, b) / (na * nb))\n",
    "\n",
    "def vec_norm(v: np.ndarray) -> float:\n",
    "    return float(np.linalg.norm(v))\n",
    "\n",
    "def report_case(label, plus, minus, target_plus):\n",
    "    expr_vec   = build_vector(plus, minus)\n",
    "    target_vec = build_vector(target_plus, [])\n",
    "    print(\"====\", label, \"====\")\n",
    "    print(\"Expresión =\", \" + \".join(plus) + \" - \" + \" - \".join(minus) if minus else \" + \".join(plus))\n",
    "    print(\"Target    =\", \" + \".join(target_plus))\n",
    "    print(\"cos(expr, target) =\", round(cos(expr_vec, target_vec), 6))\n",
    "    print(\"||expr||           =\", round(vec_norm(expr_vec), 6))\n",
    "    print(\"||target||         =\", round(vec_norm(target_vec), 6))\n",
    "    print()\n",
    "\n",
    "def nearest_neighbors(plus: List[str], minus: List[str], topn: int = 3):\n",
    "\n",
    "    expr_vec = build_vector(plus, minus)\n",
    "    expr_norm = np.linalg.norm(expr_vec)\n",
    "    if expr_norm == 0 or not np.isfinite(expr_norm):\n",
    "        return []\n",
    "\n",
    "    plus_set, minus_set = set(plus), set(minus)\n",
    "    dists = []\n",
    "    for word in model.index_to_key:\n",
    "        if word in plus_set or word in minus_set:\n",
    "            continue\n",
    "        vec = model[word]\n",
    "        sim = cos(expr_vec, vec)\n",
    "        dists.append((word, sim))\n",
    "\n",
    "    dists.sort(key=lambda x: x[1], reverse=True)\n",
    "    return dists[:topn]"
   ]
  },
  {
   "cell_type": "markdown",
   "metadata": {
    "id": "jYmlGtmYDqd1"
   },
   "source": [
    "## Caso 1 — Capitales\n",
    "\n",
    "Construya un vector que represente la relación:  \n",
    "**paris + italy - france ≈ rome**\n",
    "\n",
    "1. Defina el vector de la expresión (`expr_vec`).  \n",
    "2. Defina el vector objetivo (`target_vec`).  \n",
    "3. Calcule `cos(expr, target)`, `||expr||` y `||target||`.  \n",
    "4. Escriba su conclusión.  "
   ]
  },
  {
   "cell_type": "code",
   "execution_count": 29,
   "metadata": {},
   "outputs": [
    {
     "name": "stdout",
     "output_type": "stream",
     "text": [
      "==== Caso 1 — Capitales ====\n",
      "Expresión = paris + italy - france\n",
      "Target    = rome\n",
      "cos(expr, target) = 0.8084\n",
      "||expr||           = 6.227801\n",
      "||target||         = 5.523363\n",
      "\n"
     ]
    }
   ],
   "source": [
    "report_case(\"Caso 1 — Capitales\", plus=[\"paris\", \"italy\"], minus=[\"france\"], target_plus=[\"rome\"])"
   ]
  },
  {
   "cell_type": "markdown",
   "metadata": {},
   "source": [
    "El coseno entre la expresión paris + italy - france y el vector rome fue de 0.8084, lo cual una alta similitud semántica. Esto confirma que el modelo GloVe captura correctamente la relación que existe entre capitales: París es a Francia como Roma es a Italia."
   ]
  },
  {
   "cell_type": "markdown",
   "metadata": {
    "id": "wDCO5IIDEjHR"
   },
   "source": [
    "## Caso 2 — Dictador/País\n",
    "\n",
    "Construya un vector que represente la relación:  \n",
    "**hitler + italy - germany**\n",
    "\n",
    "1. Construya el vector de la expresión.  \n",
    "2. Encuentre los **3 vecinos más cercanos** (`nearest_neighbors`).  \n",
    "3. Reporte la similitud coseno con cada vecino.  \n",
    "4. Escriba su interpretación de los resultados.  "
   ]
  },
  {
   "cell_type": "code",
   "execution_count": 30,
   "metadata": {},
   "outputs": [
    {
     "name": "stdout",
     "output_type": "stream",
     "text": [
      "==== Caso 2 — Dictador/País ====\n",
      "Expresión = hitler + italy - germany\n",
      "||expr|| = 6.33357\n",
      "\n",
      "3 vecinos más cercanos y sus similitudes:\n",
      "  1. mussolini             0.816139\n",
      "  2. fascist               0.668780\n",
      "  3. stalin                0.639061\n"
     ]
    }
   ],
   "source": [
    "plus = [\"hitler\", \"italy\"]\n",
    "minus = [\"germany\"]\n",
    "expr_vec = build_vector(plus, minus)\n",
    "print(\"==== Caso 2 — Dictador/País ====\")\n",
    "print(\"Expresión =\", (\" + \".join(plus) + \" - \" + \" - \".join(minus)) if minus else (\" + \".join(plus)))\n",
    "print(\"||expr|| =\", round(vec_norm(expr_vec), 6))\n",
    "print()\n",
    "vecinos = nearest_neighbors(plus, minus, topn=3)\n",
    "print(\"3 vecinos más cercanos y sus similitudes:\")\n",
    "for i, (w, sim) in enumerate(vecinos, 1):\n",
    "    print(f\"  {i}. {w:20s}  {sim:.6f}\")"
   ]
  },
  {
   "cell_type": "markdown",
   "metadata": {},
   "source": [
    "El vector resultante hitler + italy - germany mostró la mayor similitud coseno con mussolini (0.816), seguido de fascist y stalin. Esto indica que el modelo GloVe captura correctamente la asociación entre líderes dictatoriales y sus respectivos países o ideologías. En este caso, la expresión logra representar el contexto de Hitler-Alemania hacia Italia, surgiendo de esta forma, Mussolini como vecino principal."
   ]
  },
  {
   "cell_type": "markdown",
   "metadata": {
    "id": "IltzpJtcHmYf"
   },
   "source": [
    "## Caso 3 — Religión/Líder\n",
    "\n",
    "Construya un vector que represente la relación:  \n",
    "**christianity ≈ jesus**\n",
    "\n",
    "1. Construya el vector de la palabra `christianity`.  \n",
    "2. Encuentre los **3 vecinos más cercanos** (`nearest_neighbors`).  \n",
    "3. Reporte la similitud coseno con cada vecino.  \n",
    "4. Escriba su interpretación: ¿aparece `jesus` entre los vecinos?  "
   ]
  },
  {
   "cell_type": "code",
   "execution_count": 31,
   "metadata": {},
   "outputs": [
    {
     "name": "stdout",
     "output_type": "stream",
     "text": [
      "==== Caso 3 — Religión/Líder ====\n",
      "Expresión = christianity\n",
      "||expr|| = 5.906148\n",
      "\n",
      "3 vecinos más cercanos y sus similitudes:\n",
      "  1. catholicism           0.875112\n",
      "  2. protestantism         0.811677\n",
      "  3. religion              0.781869\n",
      "\n",
      "Similitud coseno con 'jesus': 0.542634\n"
     ]
    }
   ],
   "source": [
    "plus = [\"christianity\"]\n",
    "minus = []\n",
    "\n",
    "expr_vec = build_vector(plus, minus)\n",
    "print(\"==== Caso 3 — Religión/Líder ====\")\n",
    "print(\"Expresión =\", (\" + \".join(plus) + \" - \" + \" - \".join(minus)) if minus else (\" + \".join(plus)))\n",
    "print(\"||expr|| =\", round(vec_norm(expr_vec), 6))\n",
    "print()\n",
    "\n",
    "vecinos = nearest_neighbors(plus, minus, topn=3)\n",
    "print(\"3 vecinos más cercanos y sus similitudes:\")\n",
    "for i, (w, sim) in enumerate(vecinos, 1):\n",
    "    print(f\"  {i}. {w:20s}  {sim:.6f}\")\n",
    "\n",
    "jesus_sim = cos(expr_vec, embedding(\"jesus\"))\n",
    "print(f\"\\nSimilitud coseno con 'jesus': {jesus_sim:.6f}\")"
   ]
  },
  {
   "cell_type": "markdown",
   "metadata": {},
   "source": [
    "El vector de christianity se acerca fuertemente al concepto general de religión, más que a la figura histórica específica (jesus). La similitud con jesus (0.543) es positiva pero no está dentro de los vecinos más cercanos, lo que sugiere que, en GloVe 100d, christianity se representa más como categoría (catolicismo) que como líder fundador."
   ]
  },
  {
   "cell_type": "markdown",
   "metadata": {
    "id": "ylamHudTHtkF"
   },
   "source": [
    "## Caso 4 — Opuestos\n",
    "\n",
    "Analice la relación:  \n",
    "**good - bad**\n",
    "\n",
    "1. Construya el vector de la expresión `good - bad`.  \n",
    "2. Encuentre los **3 vecinos más cercanos** (`nearest_neighbors`).  \n",
    "3. Reporte la similitud coseno con cada vecino.  \n",
    "4. Escriba su conclusión sobre si los vecinos reflejan un contraste u oposición semántica."
   ]
  },
  {
   "cell_type": "code",
   "execution_count": 32,
   "metadata": {},
   "outputs": [
    {
     "name": "stdout",
     "output_type": "stream",
     "text": [
      "==== Caso 4 — Opuestos ====\n",
      "Expresión = good - bad\n",
      "||expr|| = 3.815561\n",
      "\n",
      "3 vecinos más cercanos y sus similitudes:\n",
      "  1. excellent             0.522756\n",
      "  2. versatile             0.459313\n",
      "  3. ideal                 0.457311\n"
     ]
    }
   ],
   "source": [
    "plus = [\"good\"]\n",
    "minus = [\"bad\"]\n",
    "\n",
    "expr_vec = build_vector(plus, minus)\n",
    "print(\"==== Caso 4 — Opuestos ====\")\n",
    "print(\"Expresión =\", (\" + \".join(plus) + \" - \" + \" - \".join(minus)) if minus else (\" + \".join(plus)))\n",
    "print(\"||expr|| =\", round(vec_norm(expr_vec), 6))\n",
    "print()\n",
    "\n",
    "vecinos = nearest_neighbors(plus, minus, topn=3)\n",
    "print(\"3 vecinos más cercanos y sus similitudes:\")\n",
    "for i, (w, sim) in enumerate(vecinos, 1):\n",
    "    print(f\"  {i}. {w:20s}  {sim:.6f}\")"
   ]
  },
  {
   "cell_type": "markdown",
   "metadata": {},
   "source": [
    "Los vecinos recuperados no reflejan una oposición directa (good vs. bad), sino un desplazamiento hacia el polo positivo del espacio semántico. Términos como excellent e ideal muestran que la operación good - bad se centra en cualidades positivas. En consecuencia, más que implicar un contraste, el resultado evidencia orientación hacia lo positivo."
   ]
  },
  {
   "cell_type": "markdown",
   "metadata": {
    "id": "_RKNyXiMHySR"
   },
   "source": [
    "## Caso 5 — Propio\n",
    "\n",
    "Defina usted mismo un caso interesante. Ejemplos:  \n",
    "- `king - man + woman`  \n",
    "- `tokyo + france - japan`  \n",
    "- `apple - technology`  \n",
    "\n",
    "1. Construya la expresión vectorial que haya definido.  \n",
    "2. Encuentre los **3 vecinos más cercanos** (`nearest_neighbors`).  \n",
    "3. Reporte la similitud coseno con cada vecino.  \n",
    "4. Redacte una conclusión explicando si los resultados corresponden a su hipótesis inicial."
   ]
  },
  {
   "cell_type": "code",
   "execution_count": 33,
   "metadata": {},
   "outputs": [
    {
     "name": "stdout",
     "output_type": "stream",
     "text": [
      "==== google + government - attention ≈ control ====\n",
      "Expresión = google + government - attention\n",
      "Target    = control\n",
      "cos(expr, target) = 0.435727\n",
      "||expr||           = 8.267729\n",
      "||target||         = 5.697279\n",
      "\n",
      "3 vecinos más cercanos y sus similitudes:\n",
      "  1. microsoft             0.635188\n",
      "  2. yahoo                 0.601885\n",
      "  3. software              0.588352\n",
      "\n",
      "Similitud coseno con 'control': 0.435727\n"
     ]
    }
   ],
   "source": [
    "plus = [\"google\",\"government\"]\n",
    "minus = [\"attention\"]\n",
    "target = [\"control\"]\n",
    "\n",
    "report_case(\"google + government - attention ≈ control\", plus, minus, target)\n",
    "\n",
    "expr_vec = build_vector(plus, minus)\n",
    "vecinos = nearest_neighbors(plus, minus, topn=3)\n",
    "\n",
    "print(\"3 vecinos más cercanos y sus similitudes:\")\n",
    "for i, (w, sim) in enumerate(vecinos, 1):\n",
    "    print(f\"  {i}. {w:20s}  {sim:.6f}\")\n",
    "\n",
    "sim_control = cos(expr_vec, embedding(\"control\"))\n",
    "print(f\"\\nSimilitud coseno con 'control': {sim_control:.6f}\")\n"
   ]
  },
  {
   "cell_type": "markdown",
   "metadata": {},
   "source": [
    "Los vecinos que aparecieron son principalmente compañías o temas relacionados con tecnología, y muestran una similitud alta con la expresión. Esto da a entender que al combinar google y government—y restar attention—el vector se mueve hacia un significado más ligado al ámbito tecnológico y empresarial. La similitud con control (0.436) es moderada y apoya en parte la hipótesis de que existe una asociación con nociones de control o regulación en este contexto. Sin embargo, el modelo parece darle prioridad a entidades similares a google (como microsoft o yahoo) antes que a ideas más abstractas. De esta forma, los resultados apoyan parcialmente la hipótesis: captan cierta relación con el control y la regulación, pero destacan más la cercanía con otras compañías tecnológicas que con conceptos."
   ]
  }
 ],
 "metadata": {
  "colab": {
   "provenance": []
  },
  "kernelspec": {
   "display_name": "venv (3.11.0)",
   "language": "python",
   "name": "python3"
  },
  "language_info": {
   "codemirror_mode": {
    "name": "ipython",
    "version": 3
   },
   "file_extension": ".py",
   "mimetype": "text/x-python",
   "name": "python",
   "nbconvert_exporter": "python",
   "pygments_lexer": "ipython3",
   "version": "3.11.0"
  }
 },
 "nbformat": 4,
 "nbformat_minor": 0
}
